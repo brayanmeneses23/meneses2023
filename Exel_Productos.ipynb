{
 "cells": [
  {
   "cell_type": "code",
   "execution_count": 3,
   "id": "3bbae373",
   "metadata": {},
   "outputs": [
    {
     "name": "stdout",
     "output_type": "stream",
     "text": [
      "Artículo de mayor costo: ZapatosK\n",
      "Articulo de menor costo: Zapatos91\n",
      "Promedio de precios de los productos: 1531.8846153846157\n"
     ]
    }
   ],
   "source": [
    "import requests\n",
    "import pandas as pd\n",
    "\n",
    "# URL de la API de productos\n",
    "url_api_productos = 'http://localhost:3001/productos'\n",
    "\n",
    "# Hacer solicitud a la API de productos\n",
    "response_productos = requests.get(url_api_productos)\n",
    "\n",
    "# Verificar el estado de la respuesta\n",
    "if response_productos.status_code == 200:\n",
    "    # Convertir la respuesta a JSON\n",
    "    data_productos = response_productos.json()\n",
    "\n",
    "    # Crear un DataFrame con los datos de productos\n",
    "    df_productos = pd.DataFrame(data_productos)\n",
    "\n",
    "    # Convertir la columna 'precio' a tipo numérico\n",
    "    df_productos['precio'] = df_productos['precio'].astype(float)\n",
    "\n",
    "    # Encontrar el producto más caro\n",
    "    producto_mas_caro = df_productos.loc[df_productos['precio'].idxmax()]['nombre_producto']\n",
    "\n",
    "    # Encontrar el producto más barato\n",
    "    producto_mas_barato = df_productos.loc[df_productos['precio'].idxmin()]['nombre_producto']\n",
    "\n",
    "    # Calcular el promedio de precios de los productos\n",
    "    promedio_precios = df_productos['precio'].mean()\n",
    "\n",
    "    # Mostrar resultados\n",
    "    print(\"Artículo de mayor costo:\", producto_mas_caro)\n",
    "    print(\"Articulo de menor costo:\", producto_mas_barato)\n",
    "    print(\"Promedio de precios de los productos:\", promedio_precios)\n",
    "\n",
    "    # Guardar los resultados en un archivo Excel\n",
    "    resultados = {\n",
    "        'Producto Más Caro': [producto_mas_caro],\n",
    "        'Producto Más Barato': [producto_mas_barato],\n",
    "        'Promedio Precios de Productos': [promedio_precios]\n",
    "    }\n",
    "\n",
    "    df_resultados = pd.DataFrame(resultados)\n",
    "    df_resultados.to_excel('Exel_Productos.xlsx', index=False)\n",
    "else:\n",
    "    print(\"Error al obtener datos de la API de productos\")"
   ]
  },
  {
   "cell_type": "code",
   "execution_count": null,
   "id": "18561b73",
   "metadata": {},
   "outputs": [],
   "source": []
  },
  {
   "cell_type": "code",
   "execution_count": null,
   "id": "c01e849f",
   "metadata": {},
   "outputs": [],
   "source": []
  }
 ],
 "metadata": {
  "kernelspec": {
   "display_name": "Python 3 (ipykernel)",
   "language": "python",
   "name": "python3"
  },
  "language_info": {
   "codemirror_mode": {
    "name": "ipython",
    "version": 3
   },
   "file_extension": ".py",
   "mimetype": "text/x-python",
   "name": "python",
   "nbconvert_exporter": "python",
   "pygments_lexer": "ipython3",
   "version": "3.11.4"
  }
 },
 "nbformat": 4,
 "nbformat_minor": 5
}
