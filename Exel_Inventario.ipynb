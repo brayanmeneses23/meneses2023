{
 "cells": [
  {
   "cell_type": "code",
   "execution_count": 1,
   "id": "417693e8",
   "metadata": {},
   "outputs": [
    {
     "name": "stdout",
     "output_type": "stream",
     "text": [
      "Cantidad de productos en stock: 1268\n",
      "Producto con menos stock: Camisa Cuadrada\n",
      "Cantidad de productos que necesitan ser reabastecidos (stock bajo): 0\n"
     ]
    }
   ],
   "source": [
    "import requests\n",
    "import pandas as pd\n",
    "\n",
    "# URLs de las APIs\n",
    "url_api_productos = 'http://localhost:3001/productos'\n",
    "\n",
    "# Hacer solicitud a la API de productos\n",
    "response_productos = requests.get(url_api_productos)\n",
    "\n",
    "# Verificar el estado de la respuesta\n",
    "if response_productos.status_code == 200:\n",
    "    # Convertir la respuesta a JSON\n",
    "    data_productos = response_productos.json()\n",
    "\n",
    "    # Crear un DataFrame con los datos de productos\n",
    "    df_productos = pd.DataFrame(data_productos)\n",
    "\n",
    "    # Calcular cuántos productos están actualmente en stock\n",
    "    productos_en_stock = df_productos['stock'].sum()\n",
    "\n",
    "    # Encontrar el producto con menos stock\n",
    "    producto_menos_stock = df_productos.loc[df_productos['stock'].idxmin()]['nombre_producto']\n",
    "\n",
    "    # Calcular cuántos productos necesitan ser reabastecidos (stock bajo)\n",
    "    productos_stock_bajo = df_productos[df_productos['stock'] < 10]['stock'].count()\n",
    "\n",
    "    # Mostrar resultados\n",
    "    print(\"Cantidad de productos en stock:\", productos_en_stock)\n",
    "    print(\"Producto con menos stock:\", producto_menos_stock)\n",
    "    print(\"Cantidad de productos que necesitan ser reabastecidos (stock bajo):\", productos_stock_bajo)\n",
    "\n",
    "    # Guardar los resultados en un archivo Excel\n",
    "    resultados = {\n",
    "        'Productos en Stock': [productos_en_stock],\n",
    "        'Producto Menos Stock': [producto_menos_stock],\n",
    "        'Productos Stock Bajo': [productos_stock_bajo]\n",
    "    }\n",
    "\n",
    "    df_resultados = pd.DataFrame(resultados)\n",
    "    df_resultados.to_excel('Exel_inventario.xlsx', index=False)\n",
    "else:\n",
    "    print(\"Error al obtener datos de la API de productos\")"
   ]
  },
  {
   "cell_type": "code",
   "execution_count": null,
   "id": "e0fa1115",
   "metadata": {},
   "outputs": [],
   "source": []
  }
 ],
 "metadata": {
  "kernelspec": {
   "display_name": "Python 3 (ipykernel)",
   "language": "python",
   "name": "python3"
  },
  "language_info": {
   "codemirror_mode": {
    "name": "ipython",
    "version": 3
   },
   "file_extension": ".py",
   "mimetype": "text/x-python",
   "name": "python",
   "nbconvert_exporter": "python",
   "pygments_lexer": "ipython3",
   "version": "3.11.4"
  }
 },
 "nbformat": 4,
 "nbformat_minor": 5
}
