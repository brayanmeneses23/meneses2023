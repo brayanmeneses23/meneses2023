{
 "cells": [
  {
   "cell_type": "code",
   "execution_count": 1,
   "id": "00c73941",
   "metadata": {},
   "outputs": [
    {
     "name": "stdout",
     "output_type": "stream",
     "text": [
      "Cliente de mayor gasto: Poli\n",
      "Gasto promedio por cliente: 23.222222222222225\n",
      "Promedio de productos adquiridos por cliente: 2.0\n"
     ]
    }
   ],
   "source": [
    "import requests\n",
    "import pandas as pd\n",
    "\n",
    "# URLs de las APIs\n",
    "url_api_ventas = 'http://localhost:3001/ventas'\n",
    "url_api_usuarios = 'http://localhost:3001/usuarios'\n",
    "\n",
    "# Hacer solicitudes a las APIs\n",
    "response_ventas = requests.get(url_api_ventas)\n",
    "response_usuarios = requests.get(url_api_usuarios)\n",
    "\n",
    "# Verificar el estado de las respuestas\n",
    "if response_ventas.status_code == 200 and response_usuarios.status_code == 200:\n",
    "    # Convertir las respuestas a JSON\n",
    "    data_ventas = response_ventas.json()\n",
    "    data_usuarios = response_usuarios.json()\n",
    "\n",
    "    # Crear DataFrames con los datos\n",
    "    df_ventas = pd.DataFrame(data_ventas)\n",
    "    df_usuarios = pd.DataFrame(data_usuarios)\n",
    "\n",
    "    # Encontrar el usuario que más ha gastado\n",
    "    usuario_mas_gastador = df_ventas.groupby('nombre_usuario')['cantidad'].sum().idxmax()\n",
    "\n",
    "    # Calcular el promedio de gasto por usuario\n",
    "    promedio_gasto_por_usuario = df_ventas.groupby('id_usuario')['cantidad'].mean().mean()\n",
    "\n",
    "    # Calcular cuántos productos compra un usuario en promedio\n",
    "    promedio_productos_por_usuario = df_ventas.groupby('id_usuario')['id_producto'].nunique().mean()\n",
    "\n",
    "    # Mostrar resultados\n",
    "    print(\"Cliente de mayor gasto:\", usuario_mas_gastador)\n",
    "    print(\"Gasto promedio por cliente:\", promedio_gasto_por_usuario)\n",
    "    print(\"Promedio de productos adquiridos por cliente:\", promedio_productos_por_usuario)\n",
    "\n",
    "    # Guardar los resultados en un archivo Excel\n",
    "    resultados = {\n",
    "        'Usuario Más Gastador': [usuario_mas_gastador],\n",
    "        'Promedio Gasto por Usuario': [promedio_gasto_por_usuario],\n",
    "        'Promedio Productos por Usuario': [promedio_productos_por_usuario]\n",
    "    }\n",
    "\n",
    "    df_resultados = pd.DataFrame(resultados)\n",
    "    df_resultados.to_excel('Exel_usuarios.xlsx', index=False)\n",
    "else:\n",
    "    print(\"Error al obtener datos de las APIs\")"
   ]
  },
  {
   "cell_type": "code",
   "execution_count": null,
   "id": "29a74230",
   "metadata": {},
   "outputs": [],
   "source": []
  }
 ],
 "metadata": {
  "kernelspec": {
   "display_name": "Python 3 (ipykernel)",
   "language": "python",
   "name": "python3"
  },
  "language_info": {
   "codemirror_mode": {
    "name": "ipython",
    "version": 3
   },
   "file_extension": ".py",
   "mimetype": "text/x-python",
   "name": "python",
   "nbconvert_exporter": "python",
   "pygments_lexer": "ipython3",
   "version": "3.11.4"
  }
 },
 "nbformat": 4,
 "nbformat_minor": 5
}
