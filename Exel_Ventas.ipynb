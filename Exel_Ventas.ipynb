{
 "cells": [
  {
   "cell_type": "code",
   "execution_count": 2,
   "id": "82e9b977",
   "metadata": {},
   "outputs": [
    {
     "name": "stdout",
     "output_type": "stream",
     "text": [
      "Ingreso total de todas las ventas: $ 489226 pesos\n",
      "Categoría más vendida: Playeras\n",
      "El producto más vendido es \"Tenis53A\" con 100 unidades vendidas.\n"
     ]
    }
   ],
   "source": [
    "import requests\n",
    "import pandas as pd\n",
    "from collections import defaultdict\n",
    "from decimal import Decimal\n",
    "\n",
    "# URL de la API local para ventas y productos (ajusta las rutas y puertos según tu configuración)\n",
    "url_ventas = 'http://localhost:3001/ventas'\n",
    "url_productos = 'http://localhost:3001/productos'\n",
    "\n",
    "# Realizar solicitudes a las APIs\n",
    "response_ventas = requests.get(url_ventas)\n",
    "response_productos = requests.get(url_productos)\n",
    "\n",
    "# Verificar el estado de las respuestas\n",
    "if response_ventas.status_code == 200 and response_productos.status_code == 200:\n",
    "    # Convertir las respuestas a JSON\n",
    "    data_ventas = response_ventas.json()\n",
    "    data_productos = response_productos.json()\n",
    "\n",
    "    # Crear DataFrames con los datos\n",
    "    df_ventas = pd.DataFrame(data_ventas)\n",
    "    df_productos = pd.DataFrame(data_productos)\n",
    "\n",
    "    # Inicializar una variable para almacenar la suma total de ventas\n",
    "    suma_total_ventas = Decimal(0)\n",
    "\n",
    "    # Supongamos que las API devuelven listas de ventas y productos con campos \"id_producto\", \"cantidad\" y \"precio\"\n",
    "    for venta in data_ventas:\n",
    "        id_producto = venta.get('id_producto', 0)\n",
    "        cantidad_venta = int(venta.get('cantidad', 0))\n",
    "        precio_producto = Decimal([producto['precio'] for producto in data_productos if producto['id_producto'] == id_producto][0])\n",
    "        total_venta = cantidad_venta * precio_producto\n",
    "\n",
    "        # Acumular la venta en la suma total\n",
    "        suma_total_ventas += total_venta\n",
    "\n",
    "    # Convertir el total de ventas a un número entero\n",
    "    suma_total_ventas = int(suma_total_ventas)\n",
    "\n",
    "    # Encontrar la categoría más vendida\n",
    "    id_categoria_mas_vendida = df_productos['id_producto'].value_counts().idxmax()\n",
    "    nombre_categoria_mas_vendida = df_productos.loc[df_productos['id_producto'] == id_categoria_mas_vendida, 'nombre_categoria'].values[0]\n",
    "\n",
    "    # Encontrar el producto más vendido\n",
    "    productos_vendidos = defaultdict(int)\n",
    "    for venta in data_ventas:\n",
    "        producto = venta['nombre_producto']\n",
    "        cantidad_vendida = venta['cantidad']\n",
    "        productos_vendidos[producto] += cantidad_vendida\n",
    "\n",
    "    producto_mas_vendido = max(productos_vendidos, key=productos_vendidos.get)\n",
    "    cantidad_mas_vendida = productos_vendidos[producto_mas_vendido]\n",
    "\n",
    "    # Mostrar resultados\n",
    "    print(f'Ingreso total de todas las ventas: $ {suma_total_ventas} pesos')\n",
    "    print(\"Categoría más vendida:\", nombre_categoria_mas_vendida)\n",
    "    print(f'El producto más vendido es \"{producto_mas_vendido}\" con {cantidad_mas_vendida} unidades vendidas.')\n",
    "\n",
    "    # Guardar los resultados en un archivo CSV\n",
    "    resultados = {\n",
    "        'Ingreso Total': [suma_total_ventas],\n",
    "        'Categoría Más Vendida': [nombre_categoria_mas_vendida],\n",
    "        'Producto Más Vendido': [f'{producto_mas_vendido} ({cantidad_mas_vendida} unidades vendidas)']\n",
    "    }\n",
    "\n",
    "    df_resultados = pd.DataFrame(resultados)\n",
    "    df_resultados.to_csv('Exel_ventas.csv', index=False)\n",
    "else:\n",
    "    print(\"Error al obtener datos de las APIs\")"
   ]
  },
  {
   "cell_type": "code",
   "execution_count": null,
   "id": "69d105ad",
   "metadata": {},
   "outputs": [],
   "source": []
  }
 ],
 "metadata": {
  "kernelspec": {
   "display_name": "Python 3 (ipykernel)",
   "language": "python",
   "name": "python3"
  },
  "language_info": {
   "codemirror_mode": {
    "name": "ipython",
    "version": 3
   },
   "file_extension": ".py",
   "mimetype": "text/x-python",
   "name": "python",
   "nbconvert_exporter": "python",
   "pygments_lexer": "ipython3",
   "version": "3.11.4"
  }
 },
 "nbformat": 4,
 "nbformat_minor": 5
}
