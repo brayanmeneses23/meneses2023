{
 "cells": [
  {
   "cell_type": "code",
   "execution_count": 1,
   "id": "4a5b4aef",
   "metadata": {},
   "outputs": [
    {
     "name": "stdout",
     "output_type": "stream",
     "text": [
      "La información ha sido almacenada.\n"
     ]
    }
   ],
   "source": [
    "import pandas as pd\n",
    "import requests\n",
    "\n",
    "# Lista de URLs\n",
    "urls = [\n",
    "    \"http://localhost:3001/productos\",\n",
    "    \"http://localhost:3001/categoria\",\n",
    "    \"http://localhost:3001/estados\",\n",
    "    \"http://localhost:3001/marcas\",\n",
    "    \"http://localhost:3001/productos\",\n",
    "    \"http://localhost:3001/roles\",\n",
    "    \"http://localhost:3001/usuarios\",\n",
    "    \"http://localhost:3001/ventas\"\n",
    "]\n",
    "\n",
    "success_flag = True  # Variable para verificar si se han almacenado con éxito todos los datos\n",
    "\n",
    "with pd.ExcelWriter(\"Base de datos a Exel.xlsx\") as writer:\n",
    "    for i, url in enumerate(urls):\n",
    "        try:\n",
    "            response = requests.get(url)\n",
    "            response.raise_for_status() \n",
    "\n",
    "            data = response.json()\n",
    "            df = pd.DataFrame(data)\n",
    "\n",
    "            # Filtrar columnas eliminando aquellas que comienzan con 'id_'\n",
    "            columns_to_keep = [col for col in df.columns if not col.startswith('id_')]\n",
    "            df = df[columns_to_keep]\n",
    "\n",
    "            sheet_name = f'Hoja_{i + 1}'\n",
    "            df.to_excel(writer, sheet_name=sheet_name, index=False)\n",
    "        except requests.exceptions.RequestException as e:\n",
    "            success_flag = False\n",
    "\n",
    "if success_flag:\n",
    "    print(\"La información ha sido almacenada.\")"
   ]
  },
  {
   "cell_type": "code",
   "execution_count": null,
   "id": "0525b58a",
   "metadata": {},
   "outputs": [],
   "source": []
  }
 ],
 "metadata": {
  "kernelspec": {
   "display_name": "Python 3 (ipykernel)",
   "language": "python",
   "name": "python3"
  },
  "language_info": {
   "codemirror_mode": {
    "name": "ipython",
    "version": 3
   },
   "file_extension": ".py",
   "mimetype": "text/x-python",
   "name": "python",
   "nbconvert_exporter": "python",
   "pygments_lexer": "ipython3",
   "version": "3.11.4"
  }
 },
 "nbformat": 4,
 "nbformat_minor": 5
}
